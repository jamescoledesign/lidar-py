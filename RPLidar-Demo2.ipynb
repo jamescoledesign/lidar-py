{
 "cells": [
  {
   "cell_type": "markdown",
   "metadata": {},
   "source": [
    "James Cole  \n",
    "Final project for EPPS 6317   \n",
    "# LIDAR Scanner Control and Data Visualization in Python"
   ]
  },
  {
   "cell_type": "markdown",
   "metadata": {},
   "source": [
    "**Version 1**  \n",
    "\n",
    "This program will collect LIDAR measurements and servo positions from Arduino microcontrollers conencted to serial ports and create an interactive point cloud visualization using PyVista. Users can either run a scan or import data from a CSV file.   \n",
    "\n",
    "Out-of-the box data collection requires a [Slamtec RPLIDAR A1](https://www.adafruit.com/product/4010) module attached to a tilt mount, but data can be imported form prior scans by skipping to Step 2b below after importing packages (Step 1). "
   ]
  },
  {
   "cell_type": "markdown",
   "metadata": {},
   "source": [
    "## 1. Import packages and get serial port info"
   ]
  },
  {
   "cell_type": "markdown",
   "metadata": {},
   "source": [
    "### Import packages"
   ]
  },
  {
   "cell_type": "code",
   "execution_count": 4,
   "metadata": {},
   "outputs": [],
   "source": [
    "import re\n",
    "import pandas as pd\n",
    "from rplidar import RPLidar\n",
    "import serial\n",
    "import serial.tools.list_ports\n",
    "import math\n",
    "import matplotlib.pyplot as plt\n",
    "from pathlib import Path \n",
    "import os\n",
    "import numpy as np\n",
    "import pyvista as pv\n",
    "from pyvistaqt import BackgroundPlotter"
   ]
  },
  {
   "cell_type": "markdown",
   "metadata": {},
   "source": [
    "### Get serial port info\n",
    "Use pyserial to list serial port details. These will be used to listen for data printed to the serial monitor."
   ]
  },
  {
   "cell_type": "code",
   "execution_count": 3,
   "metadata": {},
   "outputs": [
    {
     "name": "stdout",
     "output_type": "stream",
     "text": [
      "cu.Bluetooth-Incoming-Port\n",
      "n/a\n",
      "n/a\n",
      "None\n",
      "None\n",
      "None\n",
      "None\n",
      "None\n",
      "None\n",
      "None\n"
     ]
    }
   ],
   "source": [
    "# Show ports\n",
    "ports = list(serial.tools.list_ports.comports())\n",
    "for item in ports:\n",
    "    print( item.name )\n",
    "    print( item.description )\n",
    "    print( item.hwid )\n",
    "    print( item.vid )\n",
    "    print( item.pid )\n",
    "    print( item.serial_number )\n",
    "    print( item.location )\n",
    "    print( item.manufacturer )\n",
    "    print( item.product )\n",
    "    print( item.interface )"
   ]
  },
  {
   "cell_type": "markdown",
   "metadata": {},
   "source": [
    "## 2a. Run scan \n",
    "Collect data from two serial ports. Only works with device attached.     \n",
    "Skip if importing data."
   ]
  },
  {
   "cell_type": "code",
   "execution_count": 2,
   "metadata": {},
   "outputs": [],
   "source": [
    "# Declare ports\n",
    "PORT_1 = '/dev/cu.usbserial-0001'  # Lidar\n",
    "PORT_2 = serial.Serial('/dev/cu.usbserial-110', 1200)  # Servos"
   ]
  },
  {
   "cell_type": "code",
   "execution_count": 4,
   "metadata": {},
   "outputs": [],
   "source": [
    "# Funcitons for starting and stopping lidar module\n",
    "lidar = RPLidar(PORT_1)\n",
    "def startLidar():\n",
    "    print('Scanning...')\n",
    "    lidar.start_motor()\n",
    "\n",
    "def stopLidar():\n",
    "    print('Stoping...')\n",
    "    lidar.stop_motor()\n",
    "    print('Stopped.')\n",
    "        \n",
    "data = []\n",
    "def run_scan():\n",
    "    \n",
    "    for measurment in lidar.iter_measures():\n",
    "        row = []\n",
    "        line = '\\t'.join(str(v) for v in measurment)\n",
    "        cc = str(PORT_2.readline())\n",
    "    \n",
    "        row.append(line)\n",
    "        row.append(cc) \n",
    "        # print(row)\n",
    "        # data.append(row)\n",
    "\n",
    "        if re.search(\"000\", cc):\n",
    "            break\n",
    "        else:\n",
    "            data.append(row)\n",
    "            print(row)\n",
    "\n",
    "# Run scan\n",
    "startLidar()\n",
    "run_scan()"
   ]
  },
  {
   "cell_type": "markdown",
   "metadata": {},
   "source": [
    "## 2b. Import data\n",
    "Skip if collecting data."
   ]
  },
  {
   "cell_type": "code",
   "execution_count": 4,
   "metadata": {},
   "outputs": [
    {
     "data": {
      "text/html": [
       "<div>\n",
       "<style scoped>\n",
       "    .dataframe tbody tr th:only-of-type {\n",
       "        vertical-align: middle;\n",
       "    }\n",
       "\n",
       "    .dataframe tbody tr th {\n",
       "        vertical-align: top;\n",
       "    }\n",
       "\n",
       "    .dataframe thead th {\n",
       "        text-align: right;\n",
       "    }\n",
       "</style>\n",
       "<table border=\"1\" class=\"dataframe\">\n",
       "  <thead>\n",
       "    <tr style=\"text-align: right;\">\n",
       "      <th></th>\n",
       "      <th>0</th>\n",
       "      <th>1</th>\n",
       "    </tr>\n",
       "  </thead>\n",
       "  <tbody>\n",
       "    <tr>\n",
       "      <th>0</th>\n",
       "      <td>False\\t15\\t105.703125\\t0.0</td>\n",
       "      <td>b'0\\r\\n'</td>\n",
       "    </tr>\n",
       "    <tr>\n",
       "      <th>1</th>\n",
       "      <td>False\\t15\\t107.0\\t1372.75</td>\n",
       "      <td>b'0\\r\\n'</td>\n",
       "    </tr>\n",
       "    <tr>\n",
       "      <th>2</th>\n",
       "      <td>False\\t15\\t108.34375\\t1389.0</td>\n",
       "      <td>b'0\\r\\n'</td>\n",
       "    </tr>\n",
       "    <tr>\n",
       "      <th>3</th>\n",
       "      <td>False\\t15\\t109.671875\\t1403.75</td>\n",
       "      <td>b'0\\r\\n'</td>\n",
       "    </tr>\n",
       "    <tr>\n",
       "      <th>4</th>\n",
       "      <td>False\\t15\\t110.984375\\t1420.75</td>\n",
       "      <td>b'0\\r\\n'</td>\n",
       "    </tr>\n",
       "    <tr>\n",
       "      <th>...</th>\n",
       "      <td>...</td>\n",
       "      <td>...</td>\n",
       "    </tr>\n",
       "    <tr>\n",
       "      <th>1271</th>\n",
       "      <td>False\\t15\\t7.171875\\t0.0</td>\n",
       "      <td>b'178\\r\\n'</td>\n",
       "    </tr>\n",
       "    <tr>\n",
       "      <th>1272</th>\n",
       "      <td>False\\t15\\t8.5\\t2781.0</td>\n",
       "      <td>b'178\\r\\n'</td>\n",
       "    </tr>\n",
       "    <tr>\n",
       "      <th>1273</th>\n",
       "      <td>False\\t15\\t9.78125\\t0.0</td>\n",
       "      <td>b'178\\r\\n'</td>\n",
       "    </tr>\n",
       "    <tr>\n",
       "      <th>1274</th>\n",
       "      <td>False\\t15\\t11.140625\\t0.0</td>\n",
       "      <td>b'178\\r\\n'</td>\n",
       "    </tr>\n",
       "    <tr>\n",
       "      <th>1275</th>\n",
       "      <td>False\\t15\\t12.46875\\t2805.0</td>\n",
       "      <td>b'178\\r\\n'</td>\n",
       "    </tr>\n",
       "  </tbody>\n",
       "</table>\n",
       "<p>1276 rows × 2 columns</p>\n",
       "</div>"
      ],
      "text/plain": [
       "                                   0           1\n",
       "0         False\\t15\\t105.703125\\t0.0    b'0\\r\\n'\n",
       "1          False\\t15\\t107.0\\t1372.75    b'0\\r\\n'\n",
       "2       False\\t15\\t108.34375\\t1389.0    b'0\\r\\n'\n",
       "3     False\\t15\\t109.671875\\t1403.75    b'0\\r\\n'\n",
       "4     False\\t15\\t110.984375\\t1420.75    b'0\\r\\n'\n",
       "...                              ...         ...\n",
       "1271        False\\t15\\t7.171875\\t0.0  b'178\\r\\n'\n",
       "1272          False\\t15\\t8.5\\t2781.0  b'178\\r\\n'\n",
       "1273         False\\t15\\t9.78125\\t0.0  b'178\\r\\n'\n",
       "1274       False\\t15\\t11.140625\\t0.0  b'178\\r\\n'\n",
       "1275     False\\t15\\t12.46875\\t2805.0  b'178\\r\\n'\n",
       "\n",
       "[1276 rows x 2 columns]"
      ]
     },
     "execution_count": 4,
     "metadata": {},
     "output_type": "execute_result"
    }
   ],
   "source": [
    "# # Import data\n",
    "data = pd.read_csv('./data-exports/raw-sensor-data-office.csv')\n",
    "data"
   ]
  },
  {
   "cell_type": "markdown",
   "metadata": {},
   "source": [
    "### Convert Cartesian coordinates to spherical coordinates"
   ]
  },
  {
   "cell_type": "markdown",
   "metadata": {},
   "source": [
    "r = radius   \n",
    "θ (theta) = inclination (pitch angle)  \n",
    "φ (phi) = azimuth (yaw angle)\n",
    "\n",
    "x = rsinθ cosφ  \n",
    "y = rsinθ sinφ   \n",
    "z = rcosθ"
   ]
  },
  {
   "cell_type": "code",
   "execution_count": 7,
   "metadata": {},
   "outputs": [
    {
     "data": {
      "text/html": [
       "<div>\n",
       "<style scoped>\n",
       "    .dataframe tbody tr th:only-of-type {\n",
       "        vertical-align: middle;\n",
       "    }\n",
       "\n",
       "    .dataframe tbody tr th {\n",
       "        vertical-align: top;\n",
       "    }\n",
       "\n",
       "    .dataframe thead th {\n",
       "        text-align: right;\n",
       "    }\n",
       "</style>\n",
       "<table border=\"1\" class=\"dataframe\">\n",
       "  <thead>\n",
       "    <tr style=\"text-align: right;\">\n",
       "      <th></th>\n",
       "      <th>0</th>\n",
       "      <th>1</th>\n",
       "    </tr>\n",
       "  </thead>\n",
       "  <tbody>\n",
       "    <tr>\n",
       "      <th>1</th>\n",
       "      <td>False\\t15\\t107.0\\t1372.75</td>\n",
       "      <td>b'0\\r\\n'</td>\n",
       "    </tr>\n",
       "    <tr>\n",
       "      <th>2</th>\n",
       "      <td>False\\t15\\t108.34375\\t1389.0</td>\n",
       "      <td>b'0\\r\\n'</td>\n",
       "    </tr>\n",
       "    <tr>\n",
       "      <th>3</th>\n",
       "      <td>False\\t15\\t109.671875\\t1403.75</td>\n",
       "      <td>b'0\\r\\n'</td>\n",
       "    </tr>\n",
       "    <tr>\n",
       "      <th>4</th>\n",
       "      <td>False\\t15\\t110.984375\\t1420.75</td>\n",
       "      <td>b'0\\r\\n'</td>\n",
       "    </tr>\n",
       "    <tr>\n",
       "      <th>5</th>\n",
       "      <td>False\\t15\\t112.28125\\t1437.5</td>\n",
       "      <td>b'0\\r\\n'</td>\n",
       "    </tr>\n",
       "    <tr>\n",
       "      <th>...</th>\n",
       "      <td>...</td>\n",
       "      <td>...</td>\n",
       "    </tr>\n",
       "    <tr>\n",
       "      <th>1270</th>\n",
       "      <td>False\\t15\\t5.84375\\t2661.75</td>\n",
       "      <td>b'178\\r\\n'</td>\n",
       "    </tr>\n",
       "    <tr>\n",
       "      <th>1271</th>\n",
       "      <td>False\\t15\\t7.171875\\t0.0</td>\n",
       "      <td>b'178\\r\\n'</td>\n",
       "    </tr>\n",
       "    <tr>\n",
       "      <th>1272</th>\n",
       "      <td>False\\t15\\t8.5\\t2781.0</td>\n",
       "      <td>b'178\\r\\n'</td>\n",
       "    </tr>\n",
       "    <tr>\n",
       "      <th>1273</th>\n",
       "      <td>False\\t15\\t9.78125\\t0.0</td>\n",
       "      <td>b'178\\r\\n'</td>\n",
       "    </tr>\n",
       "    <tr>\n",
       "      <th>1274</th>\n",
       "      <td>False\\t15\\t11.140625\\t0.0</td>\n",
       "      <td>b'178\\r\\n'</td>\n",
       "    </tr>\n",
       "  </tbody>\n",
       "</table>\n",
       "<p>1274 rows × 2 columns</p>\n",
       "</div>"
      ],
      "text/plain": [
       "                                   0           1\n",
       "1          False\\t15\\t107.0\\t1372.75    b'0\\r\\n'\n",
       "2       False\\t15\\t108.34375\\t1389.0    b'0\\r\\n'\n",
       "3     False\\t15\\t109.671875\\t1403.75    b'0\\r\\n'\n",
       "4     False\\t15\\t110.984375\\t1420.75    b'0\\r\\n'\n",
       "5       False\\t15\\t112.28125\\t1437.5    b'0\\r\\n'\n",
       "...                              ...         ...\n",
       "1270     False\\t15\\t5.84375\\t2661.75  b'178\\r\\n'\n",
       "1271        False\\t15\\t7.171875\\t0.0  b'178\\r\\n'\n",
       "1272          False\\t15\\t8.5\\t2781.0  b'178\\r\\n'\n",
       "1273         False\\t15\\t9.78125\\t0.0  b'178\\r\\n'\n",
       "1274       False\\t15\\t11.140625\\t0.0  b'178\\r\\n'\n",
       "\n",
       "[1274 rows x 2 columns]"
      ]
     },
     "execution_count": 7,
     "metadata": {},
     "output_type": "execute_result"
    }
   ],
   "source": [
    "# Get spherical coordinates\n",
    "def make_spherical(xpos, ypos, distance):\n",
    "    # Variables\n",
    "    # xpos = servo yaw angle between 0 and 180\n",
    "    # ypos = lidar pitch angle between 0 and 360\n",
    "    # distance = lidar distance reading\n",
    "    pi = math.pi\n",
    "\n",
    "    theta = float((xpos * pi) / 180)  # pan servo\n",
    "    phi = float((ypos * pi) / 180)  # tilt servo\n",
    "\n",
    "    z = distance * math.cos(phi)\n",
    "    x = z * math.cos(phi) * math.cos(theta)\n",
    "    y = z * math.cos(phi) * math.sin(theta)\n",
    "    \n",
    "    return [x, y, z]\n",
    "\n",
    "# Make df from data\n",
    "df = pd.DataFrame(data)\n",
    "df = df.drop([0])\n",
    "\n",
    "for index, row in df.iterrows():\n",
    "    if re.search(\"^b\", row[0]):\n",
    "        move = row[0]\n",
    "        row[0] = row[1]\n",
    "        row[1] = move\n",
    "\n",
    "last_row = len(df)\n",
    "df = df.drop([last_row])\n",
    "df\n",
    "\n",
    "# Get angle and distance\n",
    "new_data = []\n",
    "tilt = df[1]  # change index to \"1\" (str) if importing data \n",
    "\n",
    "for index, row in df.iterrows():\n",
    "    # print(row[0], row[1])\n",
    "    new_row = []\n",
    "\n",
    "    measurement = re.split(\"\\t\", row[0])\n",
    "\n",
    "    distance = float(measurement[3])\n",
    "    new_row.append(distance)\n",
    "\n",
    "    angle = float(measurement[2])\n",
    "    new_row.append(angle)\n",
    "    \n",
    "    tilt = re.search(\"\\d{1,3}\", row[1])\n",
    "    if tilt:\n",
    "        number = float(tilt.group(0))\n",
    "        new_row.append(number)\n",
    "    \n",
    "    spherical_data = make_spherical(new_row[0], new_row[1], new_row[2])\n",
    "    new_row = spherical_data\n",
    "\n",
    "    new_data.append(new_row)\n",
    "\n",
    "    # new_row = make_spherical(angle, tilt, distance)\n",
    "    # newdata.append(make_spherical(angle, tilt, distance))\n",
    "\n",
    "point_cloud_data = pd.DataFrame(new_data)\n",
    "point_cloud_data = point_cloud_data.rename(columns={0: \"x\", 1: \"y\", 2: \"z\"})\n",
    "point_cloud_data\n",
    "\n",
    "# Convert data for PyVista\n",
    "points = point_cloud_data.to_numpy()\n",
    "points\n",
    "\n",
    "# Create point cloud\n",
    "point_cloud = pv.PolyData(points)"
   ]
  },
  {
   "cell_type": "markdown",
   "metadata": {},
   "source": [
    "### Export data  \n",
    "Skip if not exporting data. "
   ]
  },
  {
   "cell_type": "markdown",
   "metadata": {},
   "source": [
    "Uncomment and run if exporting data."
   ]
  },
  {
   "cell_type": "code",
   "execution_count": 47,
   "metadata": {},
   "outputs": [],
   "source": [
    "# # Handle directory\n",
    "# os.makedirs('./data-exports', exist_ok=True) \n",
    "\n",
    "# # Export raw sensor data\n",
    "# df.to_csv('./data-exports/raw-sensor-data.csv', index=False)  \n",
    "\n",
    "# # Export spherical data\n",
    "# point_cloud_data.to_csv('./data-exports/spherical-data.csv', index=False)  "
   ]
  },
  {
   "cell_type": "markdown",
   "metadata": {},
   "source": [
    "## 3. Create PyVista plots"
   ]
  },
  {
   "cell_type": "markdown",
   "metadata": {},
   "source": [
    "#### Basic plot\n",
    "Render a point cloud plot in the notebook."
   ]
  },
  {
   "cell_type": "code",
   "execution_count": 11,
   "metadata": {},
   "outputs": [
    {
     "name": "stderr",
     "output_type": "stream",
     "text": [
      "/Users/jamescole/anaconda3/lib/python3.11/site-packages/pyvista/jupyter/notebook.py:33: UserWarning: Failed to use notebook backend: \n",
      "\n",
      "No module named 'trame'\n",
      "\n",
      "Falling back to a static output.\n",
      "  warnings.warn(\n"
     ]
    },
    {
     "data": {
      "image/jpeg": "[encoded data removed]",
      "image/png": "[encoded data removed]",
      "text/plain": [
       "<PIL.Image.Image image mode=RGB size=400x400>"
      ]
     },
     "metadata": {},
     "output_type": "display_data"
    }
   ],
   "source": [
    "# Set plot theme styles\n",
    "pv.global_theme.background = 'black'\n",
    "pv.global_theme.font.color = 'grey'\n",
    "\n",
    "# Basic plot\n",
    "pl = pv.Plotter()\n",
    "pl.add_mesh(point_cloud, \n",
    "            render_points_as_spheres = True,\n",
    "            scalars = points[:, 2],\n",
    "            point_size = 2,\n",
    "            show_scalar_bar = False,\n",
    "            )\n",
    "camera = pv.Camera()\n",
    "pl.camera = camera\n",
    "pl.camera_position = 'yz'\n",
    "pl.window_size = [400, 400]\n",
    "pl.camera.azimuth = 45\n",
    "pl.add_axes()\n",
    "pl.show()\n"
   ]
  },
  {
   "cell_type": "markdown",
   "metadata": {},
   "source": [
    "#### Interactive 3D plot\n",
    "Render point cloud in new window. User can navigate around the point cloud. "
   ]
  },
  {
   "cell_type": "code",
   "execution_count": 17,
   "metadata": {},
   "outputs": [
    {
     "data": {
      "text/plain": [
       "Actor (0x15fd6e200)\n",
       "  Center:                     (10.27605553879458, 0.03346775364668986, 11.469525816649934)\n",
       "  Pickable:                   True\n",
       "  Position:                   (0.0, 0.0, 0.0)\n",
       "  Scale:                      (1.0, 1.0, 1.0)\n",
       "  Visible:                    True\n",
       "  X Bounds                    -1.574E+02, 1.780E+02\n",
       "  Y Bounds                    -1.720E+02, 1.720E+02\n",
       "  Z Bounds                    -1.551E+02, 1.780E+02\n",
       "  User matrix:                Unset\n",
       "  Has mapper:                 True\n",
       "\n",
       "Property (0x15fdeebc0)\n",
       "  Ambient:                     0.0\n",
       "  Ambient color:               Color(name='lightblue', hex='#add8e6ff', opacity=255)\n",
       "  Anisotropy:                  0.0\n",
       "  Color:                       Color(name='lightblue', hex='#add8e6ff', opacity=255)\n",
       "  Culling:                     \"none\"\n",
       "  Diffuse:                     1.0\n",
       "  Diffuse color:               Color(name='lightblue', hex='#add8e6ff', opacity=255)\n",
       "  Edge color:                  Color(name='black', hex='#000000ff', opacity=255)\n",
       "  Interpolation:               InterpolationType.FLAT\n",
       "  Lighting:                    True\n",
       "  Line width:                  1.0\n",
       "  Metallic:                    0.0\n",
       "  Opacity:                     1.0\n",
       "  Point size:                  3.0\n",
       "  Render lines as tubes:       False\n",
       "  Render points as spheres:    False\n",
       "  Roughness:                   0.5\n",
       "  Show edges:                  False\n",
       "  Specular:                    0.0\n",
       "  Specular color:              Color(name='lightblue', hex='#add8e6ff', opacity=255)\n",
       "  Specular power:              100.0\n",
       "  Style:                       \"Surface\"\n",
       "\n",
       "DataSetMapper (0x15fd6ef80)\n",
       "  Scalar visibility:           True\n",
       "  Scalar range:                (0.0, 1.0)\n",
       "  Interpolate before mapping:  True\n",
       "  Scalar map mode:             point\n",
       "  Color mode:                  direct\n",
       "\n",
       "Attached dataset:\n",
       "PolyData (0x15fdc66e0)\n",
       "  N Cells:    1274\n",
       "  N Points:   1274\n",
       "  N Strips:   0\n",
       "  X Bounds:   -1.574e+02, 1.780e+02\n",
       "  Y Bounds:   -1.720e+02, 1.720e+02\n",
       "  Z Bounds:   -1.551e+02, 1.780e+02\n",
       "  N Arrays:   1"
      ]
     },
     "execution_count": 17,
     "metadata": {},
     "output_type": "execute_result"
    }
   ],
   "source": [
    "rgba = points - points.min(axis=0)\n",
    "rgba /= rgba.max(axis=0)\n",
    "# pv.plot(points, scalars=rgba, render_points_as_spheres=True, point_size=10, cpos='xy', rgba=True)\n",
    "\n",
    "plotter = BackgroundPlotter()\n",
    "plotter.add_mesh(point_cloud, scalars=rgba, rgba=True, point_size=3)\n",
    "\n",
    "# plotter.add_floor()\n",
    "# plotter.add_axes()"
   ]
  }
 ],
 "metadata": {
  "kernelspec": {
   "display_name": "base",
   "language": "python",
   "name": "python3"
  },
  "language_info": {
   "codemirror_mode": {
    "name": "ipython",
    "version": 3
   },
   "file_extension": ".py",
   "mimetype": "text/x-python",
   "name": "python",
   "nbconvert_exporter": "python",
   "pygments_lexer": "ipython3",
   "version": "3.11.5"
  }
 },
 "nbformat": 4,
 "nbformat_minor": 2
}
