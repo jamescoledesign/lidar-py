{
 "cells": [
  {
   "cell_type": "markdown",
   "metadata": {},
   "source": [
    "James Cole  \n",
    "# LIDAR Scanner Control and Data Visualization in Python  "
   ]
  },
  {
   "cell_type": "markdown",
   "metadata": {},
   "source": [
    "## Demo 1: Garmin LIDAR-Lite v4  \n",
    "  \n",
    "<img style=\"height: 200px; padding-top: 20px\" src=\"https://cdn.sparkfun.com//assets/parts/1/7/2/1/1/18009-Garmin_LIDAR-Lite_v4_LED_-_Distance_Measurement_Sensor__Qwiic_-01.jpg\"></img>  \n",
    "\n",
    "#### [Device info](https://www.sparkfun.com/products/18009)\n",
    "\n",
    "_LIDAR = Light Detection and Ranging_ "
   ]
  },
  {
   "cell_type": "markdown",
   "metadata": {},
   "source": [
    "### Import packages"
   ]
  },
  {
   "cell_type": "code",
   "execution_count": 1,
   "metadata": {},
   "outputs": [],
   "source": [
    "import re\n",
    "import time\n",
    "import pandas as pd\n",
    "from rplidar import RPLidar\n",
    "import serial\n",
    "import serial.tools.list_ports\n",
    "import math\n",
    "import matplotlib.pyplot as plt\n",
    "from pathlib import Path \n",
    "import os\n",
    "import numpy as np\n",
    "import pyvista as pv\n",
    "from pyvistaqt import BackgroundPlotter"
   ]
  },
  {
   "cell_type": "markdown",
   "metadata": {},
   "source": [
    "### Get serial port info\n",
    "Use pyserial to list serial port details. These will be used to listen for data printed to the serial monitor."
   ]
  },
  {
   "cell_type": "code",
   "execution_count": 2,
   "metadata": {},
   "outputs": [
    {
     "name": "stdout",
     "output_type": "stream",
     "text": [
      "cu.Bluetooth-Incoming-Port\n",
      "n/a\n",
      "n/a\n",
      "None\n",
      "None\n",
      "None\n",
      "None\n",
      "None\n",
      "None\n",
      "None\n",
      "cu.usbserial-110\n",
      "USB Serial\n",
      "USB VID:PID=1A86:7523 LOCATION=1-1\n",
      "6790\n",
      "29987\n",
      "None\n",
      "1-1\n",
      "None\n",
      "USB Serial\n",
      "None\n",
      "cu.usbmodemDC5475C4BCD02\n",
      "UNO WiFi R4 CMSIS-DAP\n",
      "USB VID:PID=2341:1002 SER=DC5475C4BCD0 LOCATION=0-1\n",
      "9025\n",
      "4098\n",
      "DC5475C4BCD0\n",
      "0-1\n",
      "Arduino\n",
      "UNO WiFi R4 CMSIS-DAP\n",
      "None\n"
     ]
    }
   ],
   "source": [
    "# Show ports\n",
    "ports = list(serial.tools.list_ports.comports())\n",
    "for item in ports:\n",
    "    print( item.name )\n",
    "    print( item.description )\n",
    "    print( item.hwid )\n",
    "    print( item.vid )\n",
    "    print( item.pid )\n",
    "    print( item.serial_number )\n",
    "    print( item.location )\n",
    "    print( item.manufacturer )\n",
    "    print( item.product )\n",
    "    print( item.interface )"
   ]
  },
  {
   "cell_type": "markdown",
   "metadata": {},
   "source": [
    "### Run scan\n",
    "Collect data from two serial ports. Skip if importing data."
   ]
  },
  {
   "cell_type": "code",
   "execution_count": 4,
   "metadata": {},
   "outputs": [
    {
     "name": "stdout",
     "output_type": "stream",
     "text": [
      "Ports connected\n"
     ]
    }
   ],
   "source": [
    "# Declare ports\n",
    "PORT_1 = serial.Serial('/dev/cu.usbmodemDC5475C4BCD02', 115200)  # Lidar\n",
    "PORT_2 = serial.Serial('/dev/cu.usbserial-110', 115200)  # Servos\n",
    "\n",
    "if PORT_1 and PORT_2:\n",
    "    print(\"Ports connected\")"
   ]
  },
  {
   "cell_type": "code",
   "execution_count": 12,
   "metadata": {},
   "outputs": [
    {
     "name": "stdout",
     "output_type": "stream",
     "text": [
      "Scanning...\n"
     ]
    },
    {
     "ename": "SerialException",
     "evalue": "read failed: [Errno 6] Device not configured",
     "output_type": "error",
     "traceback": [
      "\u001b[0;31m---------------------------------------------------------------------------\u001b[0m",
      "\u001b[0;31mOSError\u001b[0m                                   Traceback (most recent call last)",
      "File \u001b[0;32m~/anaconda3/lib/python3.11/site-packages/serial/serialposix.py:575\u001b[0m, in \u001b[0;36mSerial.read\u001b[0;34m(self, size)\u001b[0m\n\u001b[1;32m    574\u001b[0m         \u001b[39mbreak\u001b[39;00m   \u001b[39m# timeout\u001b[39;00m\n\u001b[0;32m--> 575\u001b[0m     buf \u001b[39m=\u001b[39m os\u001b[39m.\u001b[39mread(\u001b[39mself\u001b[39m\u001b[39m.\u001b[39mfd, size \u001b[39m-\u001b[39m \u001b[39mlen\u001b[39m(read))\n\u001b[1;32m    576\u001b[0m \u001b[39mexcept\u001b[39;00m \u001b[39mOSError\u001b[39;00m \u001b[39mas\u001b[39;00m e:\n\u001b[1;32m    577\u001b[0m     \u001b[39m# this is for Python 3.x where select.error is a subclass of\u001b[39;00m\n\u001b[1;32m    578\u001b[0m     \u001b[39m# OSError ignore BlockingIOErrors and EINTR. other errors are shown\u001b[39;00m\n\u001b[1;32m    579\u001b[0m     \u001b[39m# https://www.python.org/dev/peps/pep-0475.\u001b[39;00m\n",
      "\u001b[0;31mOSError\u001b[0m: [Errno 6] Device not configured",
      "\nDuring handling of the above exception, another exception occurred:\n",
      "\u001b[0;31mSerialException\u001b[0m                           Traceback (most recent call last)",
      "\u001b[1;32m/Users/jamescole/Docs-unsynced/Dev/epps6317-final/Demo/demo-galidar.ipynb Cell 7\u001b[0m line \u001b[0;36m2\n\u001b[1;32m     <a href='vscode-notebook-cell:/Users/jamescole/Docs-unsynced/Dev/epps6317-final/Demo/demo-galidar.ipynb#W6sZmlsZQ%3D%3D?line=25'>26</a>\u001b[0m start \u001b[39m=\u001b[39m time\u001b[39m.\u001b[39mtime()\n\u001b[1;32m     <a href='vscode-notebook-cell:/Users/jamescole/Docs-unsynced/Dev/epps6317-final/Demo/demo-galidar.ipynb#W6sZmlsZQ%3D%3D?line=26'>27</a>\u001b[0m PORT_2\u001b[39m.\u001b[39mwrite(\u001b[39m1\u001b[39m)\n\u001b[0;32m---> <a href='vscode-notebook-cell:/Users/jamescole/Docs-unsynced/Dev/epps6317-final/Demo/demo-galidar.ipynb#W6sZmlsZQ%3D%3D?line=28'>29</a>\u001b[0m newLidar()\n\u001b[1;32m     <a href='vscode-notebook-cell:/Users/jamescole/Docs-unsynced/Dev/epps6317-final/Demo/demo-galidar.ipynb#W6sZmlsZQ%3D%3D?line=30'>31</a>\u001b[0m end \u001b[39m=\u001b[39m time\u001b[39m.\u001b[39mtime()\n\u001b[1;32m     <a href='vscode-notebook-cell:/Users/jamescole/Docs-unsynced/Dev/epps6317-final/Demo/demo-galidar.ipynb#W6sZmlsZQ%3D%3D?line=31'>32</a>\u001b[0m scanTime \u001b[39m=\u001b[39m \u001b[39mround\u001b[39m(end\u001b[39m-\u001b[39mstart, \u001b[39m2\u001b[39m)\n",
      "\u001b[1;32m/Users/jamescole/Docs-unsynced/Dev/epps6317-final/Demo/demo-galidar.ipynb Cell 7\u001b[0m line \u001b[0;36m1\n\u001b[1;32m      <a href='vscode-notebook-cell:/Users/jamescole/Docs-unsynced/Dev/epps6317-final/Demo/demo-galidar.ipynb#W6sZmlsZQ%3D%3D?line=7'>8</a>\u001b[0m \u001b[39mwhile\u001b[39;00m run:\n\u001b[1;32m     <a href='vscode-notebook-cell:/Users/jamescole/Docs-unsynced/Dev/epps6317-final/Demo/demo-galidar.ipynb#W6sZmlsZQ%3D%3D?line=9'>10</a>\u001b[0m     new_row \u001b[39m=\u001b[39m []\n\u001b[0;32m---> <a href='vscode-notebook-cell:/Users/jamescole/Docs-unsynced/Dev/epps6317-final/Demo/demo-galidar.ipynb#W6sZmlsZQ%3D%3D?line=10'>11</a>\u001b[0m     lidar \u001b[39m=\u001b[39m PORT_1\u001b[39m.\u001b[39mreadline()\n\u001b[1;32m     <a href='vscode-notebook-cell:/Users/jamescole/Docs-unsynced/Dev/epps6317-final/Demo/demo-galidar.ipynb#W6sZmlsZQ%3D%3D?line=11'>12</a>\u001b[0m     new_row\u001b[39m.\u001b[39mappend(lidar)\n\u001b[1;32m     <a href='vscode-notebook-cell:/Users/jamescole/Docs-unsynced/Dev/epps6317-final/Demo/demo-galidar.ipynb#W6sZmlsZQ%3D%3D?line=12'>13</a>\u001b[0m     servos \u001b[39m=\u001b[39m PORT_2\u001b[39m.\u001b[39mreadline()\n",
      "File \u001b[0;32m~/anaconda3/lib/python3.11/site-packages/serial/serialposix.py:581\u001b[0m, in \u001b[0;36mSerial.read\u001b[0;34m(self, size)\u001b[0m\n\u001b[1;32m    576\u001b[0m \u001b[39mexcept\u001b[39;00m \u001b[39mOSError\u001b[39;00m \u001b[39mas\u001b[39;00m e:\n\u001b[1;32m    577\u001b[0m     \u001b[39m# this is for Python 3.x where select.error is a subclass of\u001b[39;00m\n\u001b[1;32m    578\u001b[0m     \u001b[39m# OSError ignore BlockingIOErrors and EINTR. other errors are shown\u001b[39;00m\n\u001b[1;32m    579\u001b[0m     \u001b[39m# https://www.python.org/dev/peps/pep-0475.\u001b[39;00m\n\u001b[1;32m    580\u001b[0m     \u001b[39mif\u001b[39;00m e\u001b[39m.\u001b[39merrno \u001b[39mnot\u001b[39;00m \u001b[39min\u001b[39;00m (errno\u001b[39m.\u001b[39mEAGAIN, errno\u001b[39m.\u001b[39mEALREADY, errno\u001b[39m.\u001b[39mEWOULDBLOCK, errno\u001b[39m.\u001b[39mEINPROGRESS, errno\u001b[39m.\u001b[39mEINTR):\n\u001b[0;32m--> 581\u001b[0m         \u001b[39mraise\u001b[39;00m SerialException(\u001b[39m'\u001b[39m\u001b[39mread failed: \u001b[39m\u001b[39m{}\u001b[39;00m\u001b[39m'\u001b[39m\u001b[39m.\u001b[39mformat(e))\n\u001b[1;32m    582\u001b[0m \u001b[39mexcept\u001b[39;00m select\u001b[39m.\u001b[39merror \u001b[39mas\u001b[39;00m e:\n\u001b[1;32m    583\u001b[0m     \u001b[39m# this is for Python 2.x\u001b[39;00m\n\u001b[1;32m    584\u001b[0m     \u001b[39m# ignore BlockingIOErrors and EINTR. all errors are shown\u001b[39;00m\n\u001b[1;32m    585\u001b[0m     \u001b[39m# see also http://www.python.org/dev/peps/pep-3151/#select\u001b[39;00m\n\u001b[1;32m    586\u001b[0m     \u001b[39mif\u001b[39;00m e[\u001b[39m0\u001b[39m] \u001b[39mnot\u001b[39;00m \u001b[39min\u001b[39;00m (errno\u001b[39m.\u001b[39mEAGAIN, errno\u001b[39m.\u001b[39mEALREADY, errno\u001b[39m.\u001b[39mEWOULDBLOCK, errno\u001b[39m.\u001b[39mEINPROGRESS, errno\u001b[39m.\u001b[39mEINTR):\n",
      "\u001b[0;31mSerialException\u001b[0m: read failed: [Errno 6] Device not configured"
     ]
    }
   ],
   "source": [
    "# Listen to serial ports and combine in a DataFrame\n",
    "run = True\n",
    "data = []\n",
    "scanTime = 0\n",
    "\n",
    "def newLidar():\n",
    "    print(\"Scanning...\")\n",
    "    while run:\n",
    "        \n",
    "        new_row = []\n",
    "        lidar = PORT_1.readline()\n",
    "        new_row.append(lidar)\n",
    "        servos = PORT_2.readline()\n",
    "        new_row.append(servos)\n",
    "\n",
    "        if servos == b'000\\r\\n':\n",
    "            print(\"——————————————————————————————\")\n",
    "            print(\"        Scan complete\")\n",
    "            print(\"——————————————————————————————\")\n",
    "            break\n",
    "        else:\n",
    "            data.append(new_row)\n",
    "            print(new_row)\n",
    "\n",
    "# Run scan\n",
    "start = time.time()\n",
    "PORT_2.write(1)\n",
    "\n",
    "newLidar()\n",
    "\n",
    "end = time.time()\n",
    "scanTime = round(end-start, 2)\n",
    "\n",
    "df = pd.DataFrame(data)\n",
    "# df.head()\n",
    "\n",
    "# Clean the data\n",
    "df[0] = df[0].astype(str).str.replace('\\D', '')\n",
    "df[1] = df[1].astype(str).str.replace('\\D', '')\n",
    "\n",
    "df[0] = df[0].astype(str).str.replace('\\r\\n', '')\n",
    "df[1] = df[1].astype(str).str.replace('\\r\\n', '')\n",
    "\n",
    "# Use xyz values\n",
    "df_copy2 = df.copy()\n",
    "df_copy2[1] = df_copy2[1].astype(str).str.split('\\t')\n",
    "df_copy2[2] = 0\n",
    "xvals = []\n",
    "yvals = []\n",
    "zvals = []\n",
    "df_copy2.tail()\n",
    "\n",
    "for i in df_copy2[1]:\n",
    "    x = i[0]\n",
    "    y = i[1]\n",
    "    xvals.append(x)\n",
    "    yvals.append(y)\n",
    "\n",
    "for i in df_copy2[0]:\n",
    "    zvals.append(i)\n",
    "\n",
    "xyz = pd.DataFrame(\n",
    "    {'x': xvals,\n",
    "     'y': yvals,\n",
    "     'z': zvals\n",
    "    })\n",
    "\n",
    "print(f\"LIDAR points collected: {len(xyz)}\")\n",
    "print(f\"Total scan time: {scanTime} seconds\")\n",
    "\n",
    "xyz.head()"
   ]
  },
  {
   "cell_type": "markdown",
   "metadata": {},
   "source": [
    "### Import data\n",
    "Skip if collecting data live"
   ]
  },
  {
   "cell_type": "code",
   "execution_count": 11,
   "metadata": {},
   "outputs": [
    {
     "data": {
      "text/html": [
       "<div>\n",
       "<style scoped>\n",
       "    .dataframe tbody tr th:only-of-type {\n",
       "        vertical-align: middle;\n",
       "    }\n",
       "\n",
       "    .dataframe tbody tr th {\n",
       "        vertical-align: top;\n",
       "    }\n",
       "\n",
       "    .dataframe thead th {\n",
       "        text-align: right;\n",
       "    }\n",
       "</style>\n",
       "<table border=\"1\" class=\"dataframe\">\n",
       "  <thead>\n",
       "    <tr style=\"text-align: right;\">\n",
       "      <th></th>\n",
       "      <th>x</th>\n",
       "      <th>y</th>\n",
       "      <th>z</th>\n",
       "    </tr>\n",
       "  </thead>\n",
       "  <tbody>\n",
       "    <tr>\n",
       "      <th>0</th>\n",
       "      <td>0</td>\n",
       "      <td>45</td>\n",
       "      <td>0.12</td>\n",
       "    </tr>\n",
       "    <tr>\n",
       "      <th>1</th>\n",
       "      <td>3</td>\n",
       "      <td>45</td>\n",
       "      <td>0.13</td>\n",
       "    </tr>\n",
       "    <tr>\n",
       "      <th>2</th>\n",
       "      <td>6</td>\n",
       "      <td>45</td>\n",
       "      <td>0.12</td>\n",
       "    </tr>\n",
       "    <tr>\n",
       "      <th>3</th>\n",
       "      <td>9</td>\n",
       "      <td>45</td>\n",
       "      <td>0.15</td>\n",
       "    </tr>\n",
       "    <tr>\n",
       "      <th>4</th>\n",
       "      <td>12</td>\n",
       "      <td>45</td>\n",
       "      <td>0.13</td>\n",
       "    </tr>\n",
       "  </tbody>\n",
       "</table>\n",
       "</div>"
      ],
      "text/plain": [
       "    x   y     z\n",
       "0   0  45  0.12\n",
       "1   3  45  0.13\n",
       "2   6  45  0.12\n",
       "3   9  45  0.15\n",
       "4  12  45  0.13"
      ]
     },
     "execution_count": 11,
     "metadata": {},
     "output_type": "execute_result"
    }
   ],
   "source": [
    "# Import data\n",
    "df = pd.read_csv('./data-exports/raw-sensor-data-livingRoom.csv')\n",
    "df.head()\n",
    "\n",
    "# Make DF with xyz values\n",
    "df_copy2 = df.copy()\n",
    "df_copy2[\"1\"] = df_copy2[\"1\"].astype(str).str.split('\\t')\n",
    "df_copy2[\"2\"] = 0\n",
    "xvals = []\n",
    "yvals = []\n",
    "zvals = []\n",
    "df_copy2.tail()\n",
    "\n",
    "for i in df_copy2[\"1\"]:\n",
    "    x = i[0]\n",
    "    y = i[1]\n",
    "    xvals.append(x)\n",
    "    yvals.append(y)\n",
    "\n",
    "for i in df_copy2[\"0\"]:\n",
    "    zvals.append(i)\n",
    "\n",
    "xyz = pd.DataFrame(\n",
    "    {'x': xvals,\n",
    "     'y': yvals,\n",
    "     'z': zvals\n",
    "    })\n",
    "\n",
    "xyz.head()"
   ]
  },
  {
   "cell_type": "markdown",
   "metadata": {},
   "source": [
    "### Convert Cartesian coordinates to spherical coordinates"
   ]
  },
  {
   "cell_type": "markdown",
   "metadata": {},
   "source": [
    "r = radius   \n",
    "θ (theta) = inclination (pitch angle)  \n",
    "φ (phi) = azimuth (yaw angle)\n",
    "\n",
    "x = rsinθ cosφ  \n",
    "y = rsinθ sinφ   \n",
    "z = rcosθ"
   ]
  },
  {
   "cell_type": "code",
   "execution_count": 6,
   "metadata": {},
   "outputs": [],
   "source": [
    "# Get spherical coordinates\n",
    "def make_spherical(xpos, ypos, distance):\n",
    "    # Variables\n",
    "    # xpos = servo yaw angle between 0 and 180\n",
    "    # ypos = lidar pitch angle between 0 and 360\n",
    "    # distance = lidar distance reading\n",
    "    pi = math.pi\n",
    "\n",
    "    theta = float((xpos * pi) / 180)  # pan servo\n",
    "    phi = float((ypos * pi) / 180)  # tilt servo\n",
    "\n",
    "    z = distance * math.sin(phi)\n",
    "    x = z * math.cos(phi) * math.cos(theta)\n",
    "    y = z * math.cos(phi) * math.sin(theta)\n",
    "    \n",
    "    return [x, y, z]\n",
    "\n",
    "# Get angle and distance\n",
    "new_data = []\n",
    "\n",
    "for index, row in xyz.iterrows():\n",
    "    # print(row[0], row[1])\n",
    "    new_row = []\n",
    "\n",
    "    z = float(row[2])\n",
    "    new_row.append(z)\n",
    "\n",
    "    y = float(row[1])\n",
    "    new_row.append(y)\n",
    "    \n",
    "    x = float(row[0])\n",
    "    new_row.append(x)\n",
    "    \n",
    "    spherical_data = make_spherical(new_row[2], new_row[1], new_row[0])\n",
    "    new_row = spherical_data\n",
    "\n",
    "    new_data.append(new_row)\n",
    "\n",
    "    # new_row = make_spherical(angle, tilt, distance)\n",
    "    # newdata.append(make_spherical(angle, tilt, distance))\n",
    "\n",
    "point_cloud_data = pd.DataFrame(new_data)\n",
    "point_cloud_data = point_cloud_data.rename(columns={0: \"x\", 1: \"y\", 2: \"z\"})\n",
    "point_cloud_data.head()\n",
    "\n",
    "# Convert data for PyVista\n",
    "points = point_cloud_data.to_numpy()\n",
    "points\n",
    "\n",
    "# Create point cloud\n",
    "point_cloud = pv.PolyData(points)"
   ]
  },
  {
   "cell_type": "markdown",
   "metadata": {},
   "source": [
    "### Export data\n",
    "Skip if not exporting data. "
   ]
  },
  {
   "cell_type": "markdown",
   "metadata": {},
   "source": [
    "Uncomment and run if exporting data. "
   ]
  },
  {
   "cell_type": "code",
   "execution_count": 7,
   "metadata": {},
   "outputs": [],
   "source": [
    "# # Handle directory\n",
    "# os.makedirs('./data-exports', exist_ok=True) \n",
    "\n",
    "# # Export raw sensor data\n",
    "# df.to_csv('./data-exports/raw-sensor-data.csv', index=False)  \n",
    "\n",
    "# # Export spherical data\n",
    "# point_cloud_data.to_csv('./data-exports/spherical-data.csv', index=False)  "
   ]
  },
  {
   "cell_type": "markdown",
   "metadata": {},
   "source": [
    "### Create PyVista plots"
   ]
  },
  {
   "cell_type": "markdown",
   "metadata": {},
   "source": [
    "#### Basic plot"
   ]
  },
  {
   "cell_type": "code",
   "execution_count": 8,
   "metadata": {},
   "outputs": [
    {
     "name": "stderr",
     "output_type": "stream",
     "text": [
      "/Users/jamescole/anaconda3/lib/python3.11/site-packages/pyvista/jupyter/notebook.py:33: UserWarning: Failed to use notebook backend: \n",
      "\n",
      "No module named 'trame'\n",
      "\n",
      "Falling back to a static output.\n",
      "  warnings.warn(\n"
     ]
    },
    {
     "data": {
      "image/jpeg": "[encoded data removed]",
      "image/png": "[encoded data removed]",
      "text/plain": [
       "<PIL.Image.Image image mode=RGB size=800x400>"
      ]
     },
     "metadata": {},
     "output_type": "display_data"
    }
   ],
   "source": [
    "# Set plot theme styles\n",
    "pv.global_theme.background = 'black'\n",
    "pv.global_theme.font.color = 'grey'\n",
    "\n",
    "# Basic plot\n",
    "pl = pv.Plotter()\n",
    "pl.add_mesh(point_cloud, \n",
    "            render_points_as_spheres = True,\n",
    "            scalars = points[:, 2],\n",
    "            point_size = 2,\n",
    "            show_scalar_bar = False,\n",
    "            )\n",
    "camera = pv.Camera()\n",
    "pl.camera = camera\n",
    "pl.camera_position = 'yz'\n",
    "pl.window_size = [800, 400]\n",
    "pl.camera.azimuth = 45\n",
    "pl.add_axes()\n",
    "pl.show()\n"
   ]
  },
  {
   "cell_type": "markdown",
   "metadata": {},
   "source": [
    "#### Interactive 3D plot\n",
    "Render point cloud in new window. User can navigate around the point cloud. "
   ]
  },
  {
   "cell_type": "code",
   "execution_count": 9,
   "metadata": {},
   "outputs": [
    {
     "data": {
      "text/plain": [
       "<vtkmodules.vtkRenderingAnnotation.vtkAxesActor(0x2931d4a30) at 0x16aaa3640>"
      ]
     },
     "execution_count": 9,
     "metadata": {},
     "output_type": "execute_result"
    }
   ],
   "source": [
    "rgba = points - points.min(axis=0)\n",
    "rgba /= rgba.max(axis=0)\n",
    "# pv.plot(points, scalars=rgba, render_points_as_spheres=True, point_size=10, cpos='xy', rgba=True)\n",
    "\n",
    "plotter = BackgroundPlotter()\n",
    "plotter.add_mesh(point_cloud, scalars=rgba, rgba=True, point_size=3)\n",
    "\n",
    "# plotter.add_floor()\n",
    "plotter.add_axes()"
   ]
  }
 ],
 "metadata": {
  "kernelspec": {
   "display_name": "base",
   "language": "python",
   "name": "python3"
  },
  "language_info": {
   "codemirror_mode": {
    "name": "ipython",
    "version": 3
   },
   "file_extension": ".py",
   "mimetype": "text/x-python",
   "name": "python",
   "nbconvert_exporter": "python",
   "pygments_lexer": "ipython3",
   "version": "3.11.5"
  }
 },
 "nbformat": 4,
 "nbformat_minor": 2
}
