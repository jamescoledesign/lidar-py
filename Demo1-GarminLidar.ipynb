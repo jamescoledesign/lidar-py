{
 "cells": [
  {
   "cell_type": "markdown",
   "metadata": {},
   "source": [
    "# LIDAR Scanner Control and Data Visualization in Python  "
   ]
  },
  {
   "cell_type": "markdown",
   "metadata": {},
   "source": [
    "**Demo 1**  \n",
    "\n",
    "This program will collect LIDAR measurements and servo positions from Arduino microcontrollers conencted to serial ports and create an interactive point cloud visualization using PyVista. Users can either run a scan or import data from a CSV file.   \n",
    "\n",
    "Out-of-the box data collection requires a [Garmin LIDAR-Lite v4](https://www.sparkfun.com/products/18009) module attached to a pan/tilt mount, but data can be imported form prior scans by skipping to Step 2b below after importing packages (Step 1). "
   ]
  },
  {
   "cell_type": "markdown",
   "metadata": {},
   "source": [
    "## 1. Import packages and get serial port info"
   ]
  },
  {
   "cell_type": "markdown",
   "metadata": {},
   "source": [
    "### Import packages"
   ]
  },
  {
   "cell_type": "code",
   "execution_count": null,
   "metadata": {},
   "outputs": [],
   "source": [
    "import time\n",
    "import pandas as pd\n",
    "import serial\n",
    "import serial.tools.list_ports\n",
    "import math\n",
    "import os\n",
    "import numpy as np\n",
    "import pyvista as pv\n",
    "from pyvistaqt import BackgroundPlotter"
   ]
  },
  {
   "cell_type": "markdown",
   "metadata": {},
   "source": [
    "### Get serial port info\n",
    "Use pyserial to list serial port details. These will be used to listen for data printed to the serial monitor."
   ]
  },
  {
   "cell_type": "code",
   "execution_count": null,
   "metadata": {},
   "outputs": [],
   "source": [
    "# Show ports\n",
    "ports = list(serial.tools.list_ports.comports())\n",
    "for item in ports:\n",
    "    print( item.name )\n",
    "    print( item.description )\n",
    "    print( item.hwid )\n",
    "    print( item.vid )\n",
    "    print( item.pid )\n",
    "    print( item.serial_number )\n",
    "    print( item.location )\n",
    "    print( item.manufacturer )\n",
    "    print( item.product )\n",
    "    print( item.interface )"
   ]
  },
  {
   "cell_type": "markdown",
   "metadata": {},
   "source": [
    "## 2a. Run scan \n",
    "Collect data from two serial ports. Only works with device attached.     \n",
    "Skip if importing data."
   ]
  },
  {
   "cell_type": "code",
   "execution_count": null,
   "metadata": {},
   "outputs": [],
   "source": [
    "# Declare ports\n",
    "PORT_1 = serial.Serial('/dev/cu.usbmodemDC5475C4BCD02', 115200)  # Lidar\n",
    "PORT_2 = serial.Serial('/dev/cu.usbserial-110', 115200)  # Servos\n",
    "\n",
    "if PORT_1 and PORT_2:\n",
    "    print(\"Ports connected\")"
   ]
  },
  {
   "cell_type": "code",
   "execution_count": null,
   "metadata": {},
   "outputs": [],
   "source": [
    "# Listen to serial ports and combine in a DataFrame\n",
    "run = True\n",
    "data = []\n",
    "scanTime = 0\n",
    "\n",
    "def newLidar():\n",
    "    print(\"Scanning...\")\n",
    "    while run:\n",
    "        \n",
    "        new_row = []\n",
    "        lidar = PORT_1.readline()\n",
    "        new_row.append(lidar)\n",
    "        servos = PORT_2.readline()\n",
    "        new_row.append(servos)\n",
    "\n",
    "        if servos == b'000\\r\\n':\n",
    "            print(\"——————————————————————————————\")\n",
    "            print(\"        Scan complete\")\n",
    "            print(\"——————————————————————————————\")\n",
    "            break\n",
    "        else:\n",
    "            data.append(new_row)\n",
    "            print(new_row)\n",
    "\n",
    "# Run scan\n",
    "start = time.time()\n",
    "PORT_2.write(1)\n",
    "\n",
    "newLidar()\n",
    "\n",
    "end = time.time()\n",
    "scanTime = round(end-start, 2)\n",
    "\n",
    "df = pd.DataFrame(data)\n",
    "# df.head()\n",
    "\n",
    "# Clean the data\n",
    "df[0] = df[0].astype(str).str.replace('\\D', '')\n",
    "df[1] = df[1].astype(str).str.replace('\\D', '')\n",
    "\n",
    "df[0] = df[0].astype(str).str.replace('\\r\\n', '')\n",
    "df[1] = df[1].astype(str).str.replace('\\r\\n', '')\n",
    "\n",
    "# Use xyz values\n",
    "df_copy2 = df.copy()\n",
    "df_copy2[1] = df_copy2[1].astype(str).str.split('\\t')\n",
    "df_copy2[2] = 0\n",
    "xvals = []\n",
    "yvals = []\n",
    "zvals = []\n",
    "df_copy2.tail()\n",
    "\n",
    "for i in df_copy2[1]:\n",
    "    x = i[0]\n",
    "    y = i[1]\n",
    "    xvals.append(x)\n",
    "    yvals.append(y)\n",
    "\n",
    "for i in df_copy2[0]:\n",
    "    zvals.append(i)\n",
    "\n",
    "xyz = pd.DataFrame(\n",
    "    {'x': xvals,\n",
    "     'y': yvals,\n",
    "     'z': zvals\n",
    "    })\n",
    "\n",
    "print(f\"LIDAR points collected: {len(xyz)}\")\n",
    "print(f\"Total scan time: {scanTime} seconds\")\n",
    "\n",
    "xyz.head()"
   ]
  },
  {
   "cell_type": "markdown",
   "metadata": {},
   "source": [
    "## 2b. Import data\n",
    "Skip if collecting data."
   ]
  },
  {
   "cell_type": "code",
   "execution_count": null,
   "metadata": {},
   "outputs": [],
   "source": [
    "# Import data\n",
    "df = pd.read_csv('./data-exports/raw-sensor-data-livingRoom.csv')\n",
    "df.head()\n",
    "\n",
    "# Make DF with xyz values\n",
    "df_copy2 = df.copy()\n",
    "df_copy2[\"1\"] = df_copy2[\"1\"].astype(str).str.split('\\t')\n",
    "df_copy2[\"2\"] = 0\n",
    "xvals = []\n",
    "yvals = []\n",
    "zvals = []\n",
    "df_copy2.tail()\n",
    "\n",
    "for i in df_copy2[\"1\"]:\n",
    "    x = i[0]\n",
    "    y = i[1]\n",
    "    xvals.append(x)\n",
    "    yvals.append(y)\n",
    "\n",
    "for i in df_copy2[\"0\"]:\n",
    "    zvals.append(i)\n",
    "\n",
    "xyz = pd.DataFrame(\n",
    "    {'x': xvals,\n",
    "     'y': yvals,\n",
    "     'z': zvals\n",
    "    })\n",
    "\n",
    "xyz.head()"
   ]
  },
  {
   "cell_type": "markdown",
   "metadata": {},
   "source": [
    "### Convert Cartesian coordinates to spherical coordinates"
   ]
  },
  {
   "cell_type": "markdown",
   "metadata": {},
   "source": [
    "r = radius   \n",
    "θ (theta) = inclination (pitch angle)  \n",
    "φ (phi) = azimuth (yaw angle)\n",
    "\n",
    "x = rsinθ cosφ  \n",
    "y = rsinθ sinφ   \n",
    "z = rcosθ"
   ]
  },
  {
   "cell_type": "code",
   "execution_count": null,
   "metadata": {},
   "outputs": [],
   "source": [
    "# Get spherical coordinates\n",
    "def make_spherical(xpos, ypos, distance):\n",
    "    # Variables\n",
    "    # xpos = servo yaw angle between 0 and 180\n",
    "    # ypos = lidar pitch angle between 0 and 360\n",
    "    # distance = lidar distance reading\n",
    "    pi = math.pi\n",
    "\n",
    "    theta = float((xpos * pi) / 180)  # pan servo\n",
    "    phi = float((ypos * pi) / 180)  # tilt servo\n",
    "\n",
    "    z = distance * math.sin(phi)\n",
    "    x = z * math.cos(phi) * math.cos(theta)\n",
    "    y = z * math.cos(phi) * math.sin(theta)\n",
    "    \n",
    "    return [x, y, z]\n",
    "\n",
    "# Get angle and distance\n",
    "new_data = []\n",
    "\n",
    "for index, row in xyz.iterrows():\n",
    "    # print(row[0], row[1])\n",
    "    new_row = []\n",
    "\n",
    "    z = float(row[2])\n",
    "    new_row.append(z)\n",
    "\n",
    "    y = float(row[1])\n",
    "    new_row.append(y)\n",
    "    \n",
    "    x = float(row[0])\n",
    "    new_row.append(x)\n",
    "    \n",
    "    spherical_data = make_spherical(new_row[2], new_row[1], new_row[0])\n",
    "    new_row = spherical_data\n",
    "\n",
    "    new_data.append(new_row)\n",
    "\n",
    "point_cloud_data = pd.DataFrame(new_data)\n",
    "point_cloud_data = point_cloud_data.rename(columns={0: \"x\", 1: \"y\", 2: \"z\"})\n",
    "point_cloud_data.head()\n",
    "\n",
    "# Convert data for PyVista\n",
    "points = point_cloud_data.to_numpy()\n",
    "points\n",
    "\n",
    "# Create point cloud\n",
    "point_cloud = pv.PolyData(points)"
   ]
  },
  {
   "cell_type": "markdown",
   "metadata": {},
   "source": [
    "### Export data\n",
    "Skip if not exporting data. "
   ]
  },
  {
   "cell_type": "markdown",
   "metadata": {},
   "source": [
    "Uncomment and run if exporting data. "
   ]
  },
  {
   "cell_type": "code",
   "execution_count": null,
   "metadata": {},
   "outputs": [],
   "source": [
    "# # Handle directory\n",
    "# os.makedirs('./data-exports', exist_ok=True) \n",
    "\n",
    "# # Export raw sensor data\n",
    "# df.to_csv('./data-exports/raw-sensor-data.csv', index=False)  \n",
    "\n",
    "# # Export spherical data\n",
    "# point_cloud_data.to_csv('./data-exports/spherical-data.csv', index=False)  "
   ]
  },
  {
   "cell_type": "markdown",
   "metadata": {},
   "source": [
    "## 3. Create PyVista plots"
   ]
  },
  {
   "cell_type": "code",
   "execution_count": null,
   "metadata": {},
   "outputs": [],
   "source": [
    "# Set plot theme styles\n",
    "pv.global_theme.background = 'black'\n",
    "pv.global_theme.font.color = 'grey'"
   ]
  },
  {
   "cell_type": "markdown",
   "metadata": {},
   "source": [
    "#### Basic plot\n",
    "Render a point cloud plot in the notebook."
   ]
  },
  {
   "cell_type": "code",
   "execution_count": null,
   "metadata": {},
   "outputs": [],
   "source": [
    "# Basic plot\n",
    "pl = pv.Plotter(notebook=True)\n",
    "pl.add_mesh(point_cloud, \n",
    "            render_points_as_spheres = True,\n",
    "            scalars = points[:, 2],\n",
    "            point_size = 2,\n",
    "            show_scalar_bar = False,\n",
    "            )\n",
    "camera = pv.Camera()\n",
    "pl.camera = camera\n",
    "pl.camera_position = 'yz'\n",
    "pl.window_size = [800, 400]\n",
    "pl.camera.azimuth = 45\n",
    "pl.add_axes()\n",
    "pl.show()\n"
   ]
  },
  {
   "cell_type": "markdown",
   "metadata": {},
   "source": [
    "#### Interactive 3D plot\n",
    "Render point cloud in new window. User can navigate around the point cloud. "
   ]
  },
  {
   "cell_type": "code",
   "execution_count": null,
   "metadata": {},
   "outputs": [],
   "source": [
    "rgba = points - points.min(axis=0)\n",
    "rgba /= rgba.max(axis=0)\n",
    "\n",
    "plotter = BackgroundPlotter()\n",
    "plotter.add_mesh(point_cloud, scalars=rgba, rgba=True, point_size=3)\n",
    "\n",
    "plotter.add_axes()"
   ]
  }
 ],
 "metadata": {
  "kernelspec": {
   "display_name": "base",
   "language": "python",
   "name": "python3"
  },
  "language_info": {
   "codemirror_mode": {
    "name": "ipython",
    "version": 3
   },
   "file_extension": ".py",
   "mimetype": "text/x-python",
   "name": "python",
   "nbconvert_exporter": "python",
   "pygments_lexer": "ipython3",
   "version": "3.11.5"
  }
 },
 "nbformat": 4,
 "nbformat_minor": 2
}
